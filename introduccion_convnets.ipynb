{
  "nbformat": 4,
  "nbformat_minor": 0,
  "metadata": {
    "colab": {
      "name": "introduccion_convnets.ipynb",
      "version": "0.3.2",
      "provenance": [],
      "toc_visible": true,
      "include_colab_link": true
    },
    "kernelspec": {
      "display_name": "Python 3",
      "language": "python",
      "name": "python3"
    }
  },
  "cells": [
    {
      "cell_type": "markdown",
      "metadata": {
        "id": "view-in-github",
        "colab_type": "text"
      },
      "source": [
        "<a href=\"https://colab.research.google.com/github/amald08/IACimat/blob/master/introduccion_convnets.ipynb\" target=\"_parent\"><img src=\"https://colab.research.google.com/assets/colab-badge.svg\" alt=\"Open In Colab\"/></a>"
      ]
    },
    {
      "metadata": {
        "id": "hzKRbRPgzK4V",
        "colab_type": "text"
      },
      "cell_type": "markdown",
      "source": [
        "# Introducción a redes neuronales artificiales convolucionales (CONVNETS)\n",
        "\n",
        "Mariano Rivera\n",
        "\n",
        "septiembre 2018\n",
        "\n",
        "Basado en el Capitulo 5, Sección 1 de [Deep Learning with Python](https://www.manning.com/books/deep-learning-with-python?a_aid=keras&a_bid=76564dff). "
      ]
    },
    {
      "metadata": {
        "id": "SHRO-woUzK4X",
        "colab_type": "code",
        "outputId": "109efb69-4a04-4aa7-a8f1-8806ad2c9e4a",
        "colab": {}
      },
      "cell_type": "code",
      "source": [
        "import keras\n",
        "keras.__version__"
      ],
      "execution_count": 0,
      "outputs": [
        {
          "output_type": "stream",
          "text": [
            "Using TensorFlow backend.\n"
          ],
          "name": "stderr"
        },
        {
          "output_type": "execute_result",
          "data": {
            "text/plain": [
              "'2.2.4'"
            ]
          },
          "metadata": {
            "tags": []
          },
          "execution_count": 1
        }
      ]
    },
    {
      "metadata": {
        "id": "4qnCTchdzK4e",
        "colab_type": "text"
      },
      "cell_type": "markdown",
      "source": [
        "Comprobamos la precisión que usamos en Tensorflow (Backend)"
      ]
    },
    {
      "metadata": {
        "id": "Lk7erLfczK4f",
        "colab_type": "code",
        "outputId": "81e969aa-cf8b-4d6a-c655-f9bc2d422eb8",
        "colab": {}
      },
      "cell_type": "code",
      "source": [
        "import keras.backend as TF\n",
        "TF.floatx()"
      ],
      "execution_count": 0,
      "outputs": [
        {
          "output_type": "execute_result",
          "data": {
            "text/plain": [
              "'float32'"
            ]
          },
          "metadata": {
            "tags": []
          },
          "execution_count": 2
        }
      ]
    },
    {
      "metadata": {
        "id": "Oj92GJpizK4j",
        "colab_type": "text"
      },
      "cell_type": "markdown",
      "source": [
        "## Introducción a las convnets\n",
        "\n",
        "Para comprender el funcionamiento de las redes convolucionales, usaremos  el ejemplo de clasificar los dígitos de la DB MNIST. En el ejemplo de la red Multicapa alcanzamos una predicción del 97.8%\n",
        "\n",
        "\n",
        "### Lectura de MNIST\n",
        "\n",
        "El primer paso el leer los datos, normalizarlos y ponerlos en las dimansiones adecudas.\n",
        "\n",
        "\n",
        "como en el ejemplo de la red multicapa, cargamos los datos"
      ]
    },
    {
      "metadata": {
        "id": "NZ-hJtESzK4j",
        "colab_type": "code",
        "colab": {}
      },
      "cell_type": "code",
      "source": [
        "from keras.datasets import mnist\n",
        "from keras.utils import to_categorical\n",
        "\n",
        "(train_images, train_labels), (test_images, test_labels) = mnist.load_data()"
      ],
      "execution_count": 0,
      "outputs": []
    },
    {
      "metadata": {
        "id": "3PNeOpuTzK4m",
        "colab_type": "text"
      },
      "cell_type": "markdown",
      "source": [
        "Las convnets 2D asumen que los datos de entrada son una colección de imágenes, con tamaño número de renglones por número de columnas y  varios canales (que codifican el color). Esto es, los datos deberán estar en formato de tensor de dimensión cuatro de la forma\n",
        "\n",
        "*(num datos x num renglones x num columnas x num canales)*\n",
        "\n",
        "es decir: `(image_height, image_width, image_channels)`\n",
        "\n",
        "Como las imágenes de MNIST son en niveles de gris (un solo canal) tenemos que agregar una dimensión extra al tensor de datos que corresponde al número de canales y debera ser igual a 1."
      ]
    },
    {
      "metadata": {
        "id": "irIZ5IATzK4m",
        "colab_type": "code",
        "colab": {}
      },
      "cell_type": "code",
      "source": [
        "train_images = train_images.reshape((60000, 28, 28, 1))\n",
        "train_images = train_images.astype('float32') / 255\n",
        "\n",
        "test_images = test_images.reshape((10000, 28, 28, 1))\n",
        "test_images = test_images.astype('float32') / 255\n"
      ],
      "execution_count": 0,
      "outputs": []
    },
    {
      "metadata": {
        "id": "d54uwyLzzK4p",
        "colab_type": "text"
      },
      "cell_type": "markdown",
      "source": [
        "Convertimos las etiquetas con valores enteros a categóricos (codificación *one-hot*  o variables indicadoras)"
      ]
    },
    {
      "metadata": {
        "id": "yoGknCL0zK4q",
        "colab_type": "code",
        "colab": {}
      },
      "cell_type": "code",
      "source": [
        "train_labels = to_categorical(train_labels)\n",
        "test_labels  = to_categorical(test_labels)"
      ],
      "execution_count": 0,
      "outputs": []
    },
    {
      "metadata": {
        "id": "8q0yWNVczK4r",
        "colab_type": "text"
      },
      "cell_type": "markdown",
      "source": [
        "### Etapa de extracción de características mediante un a NN convolucional\n",
        "\n",
        "La red propuesta sigue siendo secuencial: los datos se procesados por una capa alimanta a la capa siguiente hasta llegar a la capa de salida. Es decir no hay retroalimentación o recurrencias: que la salida de capa se regrese a una capa previa.     \n",
        "\n",
        "El propósito de la red convnet es diseñar los filtros para que dados los parches de imagen de la entrada, resproducir la salida conocida.\n",
        "\n",
        "La siguiente figura muestra la secuancia de dos etapas (bloques) y cada una corresponde a una subred secuencial\n",
        "\n",
        "![secuencialDosEtapas](http://www.cimat.mx/~mrivera/figuras/dosEtapas.png)\n",
        "\n",
        "\n",
        "El punto importante en aprendizaje profundo, es que aunque hayamos diseñado nuestra red considerando las distintas tareas que se realizarán (extracción de rasgos y clasificación), la red será entrenada en su conjunto. Luego, la división que hemos estabecido en el diseño es una referencia, pero la frontera de las tareas será un tanto difusa.\n"
      ]
    },
    {
      "metadata": {
        "id": "wpsK3HUyzwtt",
        "colab_type": "text"
      },
      "cell_type": "markdown",
      "source": [
        "Una red convolucional aprende pesos para una máscara (filtro) cuya respuesta es pasada por una función de activación. La siguiente figura ilustra el proceso estándar de convolución.\n",
        "\n",
        "![convolucion](http://www.cimat.mx/~mrivera/figuras/convolucion.gif)\n",
        "\n",
        "Una capa comvolucional realiza una operación no lineal que corresponde a pasar por la función de activación la respuesta de la convolución, ver la siguiente figura\n",
        "\n",
        "![convnn](http://www.cimat.mx/~mrivera/figuras/convnn.png)"
      ]
    },
    {
      "metadata": {
        "id": "SGnuKvozzK4s",
        "colab_type": "code",
        "colab": {}
      },
      "cell_type": "code",
      "source": [
        "from keras import layers\n",
        "from keras import models\n",
        "convNN = models.Sequential()"
      ],
      "execution_count": 0,
      "outputs": []
    },
    {
      "metadata": {
        "id": "4zhmLMEWzK4u",
        "colab_type": "text"
      },
      "cell_type": "markdown",
      "source": [
        "Analicemos la primera capa añadida: el tipo de capa es *Comv2D* (hasta  ahoara solo habiamos usado *Dense*).\n",
        "\n",
        "los parámeros son \n",
        "\n",
        "```keras.layers.Conv2D(filters, kernel_size, strides=(1, 1), padding='valid', data_format=None, dilation_rate=(1, 1), activation=None, use_bias=True, kernel_initializer='glorot_uniform', bias_initializer='zeros', kernel_regularizer=None, bias_regularizer=None, activity_regularizer=None, kernel_constraint=None, bias_constraint=None)```\n",
        "\n",
        "Cuya descripción es\n",
        "\n",
        "**filters**: dimensión del espacio de salida: número de filtros de convolución (serán no-lineales debido a la función de activación) que implementará la capa.\n",
        "\n",
        "Para la primera capa, matemáticamente se escribe $x_2 = \\phi( H^{(i)} \\otimes x_1)$. Donde $x_1$ es la entradad a la primera capa (los datos), y $x_2$ la salida (o entrada a la segunda capa),  $H^{(i)}$ es el $i$-ésimo filtro de convolución y $\\phi(\\cdot)$ la función de activación (es tensorial y se aplica a cada elemento del tensor que resulta de $H^{(i)} \\otimes x_1$).\n",
        "\n",
        "\n",
        "**kernel_size**: dimsnsiones (renglones y columnas) de los filtros $H^{(i)}$. Si se da un solo valor, significa que son iguales en todas las dimensiones.   \n",
        "    \n",
        "    \n",
        "**strides**: Entero o tupla de dos enteros con el paso de convolución en cada dimensión.\n",
        "\n",
        "\n",
        "**padding**: {\"valid\", \"same\"} indica si el resultado tendrá los mismos (num_renglones, num_columnas) que el tensor de entrada o si la convolución solo se aplica sobre datos válidos (con efecto de reducción de bordes).\n",
        "    \n",
        "**data_format**: {\"channels_last\", \"channels_first\"} indica si los datos de estradad estan en formato \n",
        "\n",
        "   `(batch_size, image_height, image_width, image_channels)`\n",
        "   o \n",
        "   `(batch_size, image_channels, image_height, image_width)`\n",
        "\n",
        "\n",
        "**dilation_rate**: entro o tupla de dos enteros indicando la dilatación de la salida en cada dimensión.\n",
        "\n",
        "**activation**: función de activación.\n",
        "\n",
        "**use_bias**: boleana que indica si se usa vector de sesgo.\n",
        "\n",
        "**kernel_initializer**: método de inicialización de los pesos de la matrix kernel.\n",
        "\n",
        "**bias_initializer**: método de inicialización de los pesos del vectopr de sesgo.\n",
        "\n",
        "\n",
        "**kernel_regularizer**: método de regularización de los los pesos de la matriz kernel\n",
        "   \n",
        "**bias_regularizer**: método de regularización de los los pesos del vector de sesgo.\n",
        "\n",
        "**kernel_constraint**: resticción sobre los pesos de la matriz kernel (pesos de los filtros)\n",
        "    \n",
        "**bias_constraint**: resticción sobre los pesos del vector de sesgo.\n"
      ]
    },
    {
      "metadata": {
        "id": "rtWdENpmzK4u",
        "colab_type": "code",
        "colab": {}
      },
      "cell_type": "code",
      "source": [
        "convNN.add(layers.Conv2D(filters     =32, \n",
        "                         kernel_size =(3, 3), \n",
        "                         activation  ='relu', \n",
        "                         input_shape =(28, 28, 1)))"
      ],
      "execution_count": 0,
      "outputs": []
    },
    {
      "metadata": {
        "id": "lldP4MOszK4w",
        "colab_type": "text"
      },
      "cell_type": "markdown",
      "source": [
        "El tensor resultante de una capa de convolución será de *(batch_size, image_height, image_width, image_channels=filters)*.  Es decir cada filtro genera ahora una canal (respuesta del filtro). \n",
        "\n",
        "Se espera que:\n",
        "\n",
        "* la información relevante en forma de relaciones espaciales en la imagen de entrada se codifique en forma de respuesta en algunos canales. T\n",
        "\n",
        "* pixeles vecinos tengas respuestas similares. \n",
        "\n",
        "* respuesta altas se asocian con filtros entonados a detectar caractéristicas relevantes\n",
        "\n",
        "Por ello, ahora, con la finalidad de resaltar la información relevante a la salida de la capa de convolución  e aplica un proceso de **pooling** o agrupado. Esto se realiza mediante la capa *MaxPooling2D*\n",
        "\n",
        "el formato es \n",
        "\n",
        "`keras.layers.MaxPooling2D(pool_size=(2, 2), strides=None, padding='valid', data_format=None)`\n",
        "\n",
        "y el significado de los parámetros es\n",
        "\n",
        "**pool_size**: entero o tupla indicando las dimensiones de la ventana sobre el que se seleccionará la maxima respuesta.\n",
        "\n",
        "**strides**: entero o tupla indicando el paso (default es igual a *pool_size*)\n",
        "\n",
        "**padding**: {\"valid\", \"same\"}  indica si el resultado tendrá los mismos (num_renglones, num_columnas) que el tensor de entrada o si la convolución solo se aplica sobre datos válidos (con efecto de reducción de bordes).\n",
        "\n",
        "**data_format**: {'channels_last' (default), 'channels_first'}.\n"
      ]
    },
    {
      "metadata": {
        "id": "95ryDMbdzK4x",
        "colab_type": "code",
        "colab": {}
      },
      "cell_type": "code",
      "source": [
        "convNN.add(layers.MaxPooling2D(pool_size=(2, 2)))"
      ],
      "execution_count": 0,
      "outputs": []
    },
    {
      "metadata": {
        "id": "88M2Q_bgzK4z",
        "colab_type": "text"
      },
      "cell_type": "markdown",
      "source": [
        "A contintuación añadimos dos capas mas de convolución, cn un *MaxPoolin* intermedio.\n"
      ]
    },
    {
      "metadata": {
        "id": "x07Whe84zK4z",
        "colab_type": "code",
        "colab": {}
      },
      "cell_type": "code",
      "source": [
        "convNN.add(layers.Conv2D(filters=64, kernel_size=(3, 3), activation='relu'))\n",
        "convNN.add(layers.MaxPooling2D(pool_size=(2, 2)))\n",
        "convNN.add(layers.Conv2D(filters=64, kernel_size=(3, 3), activation='relu'))"
      ],
      "execution_count": 0,
      "outputs": []
    },
    {
      "metadata": {
        "id": "H3P5VYaxzK41",
        "colab_type": "text"
      },
      "cell_type": "markdown",
      "source": [
        "Veamos la arquitectura del modelo diseñado, cada vez el tensor de salida se hace espacialmente mas estrecho y con mayor número de canales, es más profunda."
      ]
    },
    {
      "metadata": {
        "id": "a1jI9-lIzK41",
        "colab_type": "code",
        "outputId": "38501a36-e0e2-45cb-ae32-a3c1d259daee",
        "colab": {}
      },
      "cell_type": "code",
      "source": [
        "convNN.summary()"
      ],
      "execution_count": 0,
      "outputs": [
        {
          "output_type": "stream",
          "text": [
            "_________________________________________________________________\n",
            "Layer (type)                 Output Shape              Param #   \n",
            "=================================================================\n",
            "conv2d_1 (Conv2D)            (None, 26, 26, 32)        320       \n",
            "_________________________________________________________________\n",
            "max_pooling2d_1 (MaxPooling2 (None, 13, 13, 32)        0         \n",
            "_________________________________________________________________\n",
            "conv2d_2 (Conv2D)            (None, 11, 11, 64)        18496     \n",
            "_________________________________________________________________\n",
            "max_pooling2d_2 (MaxPooling2 (None, 5, 5, 64)          0         \n",
            "_________________________________________________________________\n",
            "conv2d_3 (Conv2D)            (None, 3, 3, 64)          36928     \n",
            "=================================================================\n",
            "Total params: 55,744\n",
            "Trainable params: 55,744\n",
            "Non-trainable params: 0\n",
            "_________________________________________________________________\n"
          ],
          "name": "stdout"
        }
      ]
    },
    {
      "metadata": {
        "id": "RDWKGlyMzK43",
        "colab_type": "text"
      },
      "cell_type": "markdown",
      "source": [
        "La estrategia es ir tranformando la información espacial en detección (respuesta) de filtros. Por lo que las dimensiones del tensor que se procesa se iran estrechando espacialmente a la vez que se añaden mas capas (filtros). \n",
        "\n",
        "Las respuestas de la última capa se pueden entender como las características extraídas del vector de entrada. \n",
        "\n",
        "La siguinete etapoa es alimentar con las características extraidas una red multicapa para realizar la clasificación.\n",
        "\n",
        "### Etapa de Clasificación mediante una red multicapa\n",
        "\n",
        "El primer paso es pasar el tensor de rasgos calculado por la etapa previa a un vector unidimensional. Esto lo hacemos con la capa *Flatten*, cuya definición esta dada por\n",
        "\n",
        "`keras.layers.Flatten(data_format=None)`\n",
        "\n",
        "que no requiere ningún parámetro."
      ]
    },
    {
      "metadata": {
        "id": "f1pRbNzRzK43",
        "colab_type": "code",
        "colab": {}
      },
      "cell_type": "code",
      "source": [
        "convNN.add(layers.Flatten())"
      ],
      "execution_count": 0,
      "outputs": []
    },
    {
      "metadata": {
        "id": "wxMUC-wlzK45",
        "colab_type": "text"
      },
      "cell_type": "markdown",
      "source": [
        "Ahora agregamos una red similar con una arquitectura similar a la que usamos para clasificar los dígitos MNIST. La estapa se compone con dos capas *Dense*, y la de salida es un vector de dimesión 10. Solo que ahora, en la primera capa oculta pondremos menos neuronas, pues los rasgos relevantes se han conservado y la información no relevante habre de haberse desechado."
      ]
    },
    {
      "metadata": {
        "id": "vmKKfeYfzK45",
        "colab_type": "code",
        "colab": {}
      },
      "cell_type": "code",
      "source": [
        "convNN.add(layers.Dense(units=64, activation='relu'))\n",
        "convNN.add(layers.Dense(units=10, activation='softmax'))"
      ],
      "execution_count": 0,
      "outputs": []
    },
    {
      "metadata": {
        "id": "cOuSzUoUzK46",
        "colab_type": "text"
      },
      "cell_type": "markdown",
      "source": [
        "y el resumen de la red completa es como sigue"
      ]
    },
    {
      "metadata": {
        "id": "CqLNMitazK47",
        "colab_type": "code",
        "outputId": "5d399b4d-1717-4df1-a3fe-2f38c161c7f6",
        "colab": {}
      },
      "cell_type": "code",
      "source": [
        "convNN.summary()"
      ],
      "execution_count": 0,
      "outputs": [
        {
          "output_type": "stream",
          "text": [
            "_________________________________________________________________\n",
            "Layer (type)                 Output Shape              Param #   \n",
            "=================================================================\n",
            "conv2d_1 (Conv2D)            (None, 26, 26, 32)        320       \n",
            "_________________________________________________________________\n",
            "max_pooling2d_1 (MaxPooling2 (None, 13, 13, 32)        0         \n",
            "_________________________________________________________________\n",
            "conv2d_2 (Conv2D)            (None, 11, 11, 64)        18496     \n",
            "_________________________________________________________________\n",
            "max_pooling2d_2 (MaxPooling2 (None, 5, 5, 64)          0         \n",
            "_________________________________________________________________\n",
            "conv2d_3 (Conv2D)            (None, 3, 3, 64)          36928     \n",
            "_________________________________________________________________\n",
            "flatten_1 (Flatten)          (None, 576)               0         \n",
            "_________________________________________________________________\n",
            "dense_1 (Dense)              (None, 64)                36928     \n",
            "_________________________________________________________________\n",
            "dense_2 (Dense)              (None, 10)                650       \n",
            "=================================================================\n",
            "Total params: 93,322\n",
            "Trainable params: 93,322\n",
            "Non-trainable params: 0\n",
            "_________________________________________________________________\n"
          ],
          "name": "stdout"
        }
      ]
    },
    {
      "metadata": {
        "id": "vJ9POPdPzK49",
        "colab_type": "text"
      },
      "cell_type": "markdown",
      "source": [
        "Como podemos ver, el número de parámetros totales a entrenar es sustancialmente menor que la red multicapa (mas de 400 mil)\n",
        "\n",
        "Compilamos en modelo, que es definir los parámetrso de la estpa de entrenamiento."
      ]
    },
    {
      "metadata": {
        "id": "UfPCvu95zK4-",
        "colab_type": "code",
        "colab": {}
      },
      "cell_type": "code",
      "source": [
        "convNN.compile(optimizer='rmsprop',\n",
        "              loss='categorical_crossentropy',\n",
        "              metrics=['accuracy'])\n"
      ],
      "execution_count": 0,
      "outputs": []
    },
    {
      "metadata": {
        "id": "Ds7cLWFezK4_",
        "colab_type": "text"
      },
      "cell_type": "markdown",
      "source": [
        "y procedemos a realizar el entrenamiento"
      ]
    },
    {
      "metadata": {
        "id": "D-TXdkYGzK5A",
        "colab_type": "code",
        "outputId": "09243a3f-a2c1-4125-8119-d55a351b3f40",
        "colab": {}
      },
      "cell_type": "code",
      "source": [
        "import time\n",
        "tic = time.time()\n",
        "\n",
        "convNN.fit(x = train_images, \n",
        "           y = train_labels, \n",
        "           epochs    =5, \n",
        "           batch_size=64,\n",
        "          verbose=2)\n",
        "\n",
        "print('seconds=', time.time()-tic)"
      ],
      "execution_count": 0,
      "outputs": [
        {
          "output_type": "stream",
          "text": [
            "Epoch 1/5\n",
            " - 5s - loss: 0.1754 - acc: 0.9455\n",
            "Epoch 2/5\n",
            " - 3s - loss: 0.0470 - acc: 0.9855\n",
            "Epoch 3/5\n",
            " - 2s - loss: 0.0325 - acc: 0.9900\n",
            "Epoch 4/5\n",
            " - 2s - loss: 0.0255 - acc: 0.9919\n",
            "Epoch 5/5\n",
            " - 2s - loss: 0.0194 - acc: 0.9941\n",
            "seconds= 15.464164018630981\n"
          ],
          "name": "stdout"
        }
      ]
    },
    {
      "metadata": {
        "id": "7h7HkEVfzK5B",
        "colab_type": "text"
      },
      "cell_type": "markdown",
      "source": [
        "Tomó alrededor de 2.5 min en mi laptop (no mal) y poco cercas de 13 secs en mi Desktop i7-8700k titan xp, wow!"
      ]
    },
    {
      "metadata": {
        "id": "nb8bfOLlzK5C",
        "colab_type": "text"
      },
      "cell_type": "markdown",
      "source": [
        "Evaluando el modelo"
      ]
    },
    {
      "metadata": {
        "id": "yTXZ810XzK5C",
        "colab_type": "code",
        "outputId": "5296b714-32b8-4902-9be8-768a78150511",
        "colab": {}
      },
      "cell_type": "code",
      "source": [
        "test_loss, test_acc = convNN.evaluate(test_images, test_labels)"
      ],
      "execution_count": 0,
      "outputs": [
        {
          "output_type": "stream",
          "text": [
            "10000/10000 [==============================] - 0s 26us/step\n"
          ],
          "name": "stdout"
        }
      ]
    },
    {
      "metadata": {
        "id": "Lyc9ct9dzK5E",
        "colab_type": "code",
        "outputId": "8a58080f-1db5-47bd-82cc-de61da82a1d5",
        "colab": {}
      },
      "cell_type": "code",
      "source": [
        "print('Accuracy:' ,test_acc, ', Otro WOW!')"
      ],
      "execution_count": 0,
      "outputs": [
        {
          "output_type": "stream",
          "text": [
            "Accuracy: 0.9924 , Otro WOW!\n"
          ],
          "name": "stdout"
        }
      ]
    },
    {
      "metadata": {
        "id": "bzOCqivVzK5G",
        "colab_type": "text"
      },
      "cell_type": "markdown",
      "source": [
        "Mientras la red multicapa alcanzo un 97.8 de precisión, la redconvolucional llegó  99.2%. "
      ]
    },
    {
      "metadata": {
        "id": "5y7y33iszK5G",
        "colab_type": "text"
      },
      "cell_type": "markdown",
      "source": [
        "Grafiquemos la matrix de confusión para este modelo."
      ]
    },
    {
      "metadata": {
        "id": "AOGlIDwXzK5H",
        "colab_type": "code",
        "colab": {}
      },
      "cell_type": "code",
      "source": [
        "import numpy as np\n",
        "\n",
        "test_predicted_labels = convNN.predict(test_images)\n",
        "test_true_labels      = np.argmax(test_labels,axis=1)\n",
        "test_predicted_labels = np.argmax(test_predicted_labels,axis=1)"
      ],
      "execution_count": 0,
      "outputs": []
    },
    {
      "metadata": {
        "id": "z3KHat7UzK5I",
        "colab_type": "code",
        "outputId": "fdda698a-cccf-4401-828f-56c91e6fe9a5",
        "colab": {}
      },
      "cell_type": "code",
      "source": [
        "%matplotlib inline\n",
        "import matplotlib.pyplot as plt\n",
        "\n",
        "from sklearn.metrics import confusion_matrix, precision_score, recall_score \n",
        "from sklearn.metrics import f1_score, cohen_kappa_score\n",
        "import seaborn as sns \n",
        "\n",
        "C = confusion_matrix(test_true_labels, test_predicted_labels)\n",
        "\n",
        "f, ax = plt.subplots(figsize=(11, 9))\n",
        "sns.set()\n",
        "cmap = sns.diverging_palette(220, 10, as_cmap=True)\n",
        "ax = sns.heatmap(C, cmap=cmap, square=True,\n",
        "                 annot=True, fmt='d', linewidths=.5)\n",
        "ax.set_title('Matriz de Confusión')\n",
        "plt.show()"
      ],
      "execution_count": 0,
      "outputs": [
        {
          "output_type": "display_data",
          "data": {
            "image/png": "[encoded data removed]",
            "text/plain": [
              "<Figure size 792x648 with 2 Axes>"
            ]
          },
          "metadata": {
            "tags": []
          }
        }
      ]
    },
    {
      "metadata": {
        "id": "UlOnV_UBzK5J",
        "colab_type": "text"
      },
      "cell_type": "markdown",
      "source": [
        "Comparemos con los resultados obtenidos clasificando toda la imágen\n",
        "\n",
        "![secuencialDosEtapas]](http://www.cimat.mx/~mrivera/figuras/nn_corrmatrix.png)"
      ]
    },
    {
      "metadata": {
        "id": "j9Cxz0dSzK5K",
        "colab_type": "code",
        "colab": {}
      },
      "cell_type": "code",
      "source": [
        ""
      ],
      "execution_count": 0,
      "outputs": []
    }
  ]
}